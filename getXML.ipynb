{
 "cells": [
  {
   "cell_type": "code",
   "execution_count": 46,
   "metadata": {},
   "outputs": [],
   "source": [
    "import os\n",
    "from shutil import copyfile"
   ]
  },
  {
   "cell_type": "code",
   "execution_count": null,
   "metadata": {},
   "outputs": [],
   "source": [
    "srcpath = \"D:/Gaurav/res_intern_new/apps_data/Add_benign_apps/extract/\"\n",
    "destpath = \"D:/Gaurav/res_intern_new/apps_data/Add_benign_apps/xmls/\"\n",
    "files = os.listdir(path = srcpath)\n",
    "for i in range(len(files)):\n",
    "    copyfile(srcpath+files[i]+\"/AndroidManifest.xml\", destpath + 'BX-{}.xml'.format(i+1))"
   ]
  }
 ],
 "metadata": {
  "kernelspec": {
   "display_name": "Python 3",
   "language": "python",
   "name": "python3"
  },
  "language_info": {
   "codemirror_mode": {
    "name": "ipython",
    "version": 3
   },
   "file_extension": ".py",
   "mimetype": "text/x-python",
   "name": "python",
   "nbconvert_exporter": "python",
   "pygments_lexer": "ipython3",
   "version": "3.7.6"
  }
 },
 "nbformat": 4,
 "nbformat_minor": 4
}
