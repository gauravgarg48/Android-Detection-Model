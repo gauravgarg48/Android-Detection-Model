{
 "cells": [
  {
   "cell_type": "code",
   "execution_count": 24,
   "metadata": {},
   "outputs": [],
   "source": [
    "import pandas as pd\n",
    "import os"
   ]
  },
  {
   "cell_type": "code",
   "execution_count": 25,
   "metadata": {},
   "outputs": [],
   "source": [
    "benign_dir = 'D:\\\\Gaurav\\\\res_intern_new\\\\benign_dataset'\n",
    "malware_dir = 'D:\\\\Gaurav\\\\res_intern_new\\\\malware_dataset'\n",
    "apps_ben = os.listdir(benign_dir)\n",
    "apps_mal = os.listdir(malware_dir)"
   ]
  },
  {
   "cell_type": "code",
   "execution_count": 26,
   "metadata": {},
   "outputs": [],
   "source": [
    "all_perm_uni = []     # unique permissions in all ben-mal files\n",
    "all_perm_ben = []     # permissions in all ben files\n",
    "for app in apps_ben:\n",
    "    filename = benign_dir + '\\\\' + str(app)\n",
    "    perms_i = []      # permissions in ith file\n",
    "    with open(filename, encoding=\"utf8\") as f:\n",
    "        for line in f:\n",
    "            if 'uses-permission android:name=\\\"android.permission.' in line:\n",
    "                res = line.split('\\\"')\n",
    "                res = res[1].split('.')\n",
    "                perm = res[-1].replace('\\\"/>', '')\n",
    "                perm = perm.strip()\n",
    "                if perm.isupper():\n",
    "                    perms_i.append(perm)\n",
    "                    if perm not in all_perm_uni:\n",
    "                        all_perm_uni.append(perm)\n",
    "        all_perm_ben.append(perms_i)"
   ]
  },
  {
   "cell_type": "code",
   "execution_count": 27,
   "metadata": {},
   "outputs": [],
   "source": [
    "all_perm_mal = []     # permissions in all mal files\n",
    "for app in apps_mal:\n",
    "    filename = malware_dir + '\\\\' + str(app)\n",
    "    perms_i = []\n",
    "    with open(filename, encoding=\"utf8\") as f:\n",
    "        for line in f:\n",
    "            if 'uses-permission android:name=\\\"android.permission.' in line:\n",
    "                res = line.split('\\\"')\n",
    "                res = res[1].split('.')\n",
    "                perm = res[-1].replace('\\\"/>', '')\n",
    "                perm = perm.strip()\n",
    "                if perm.isupper():\n",
    "                    perms_i.append(perm)\n",
    "                    if perm not in all_perm_uni:\n",
    "                        all_perm_uni.append(perm)\n",
    "        all_perm_mal.append(perms_i)"
   ]
  },
  {
   "cell_type": "code",
   "execution_count": 28,
   "metadata": {},
   "outputs": [],
   "source": [
    "benign_data = pd.DataFrame(index=apps_ben)\n",
    "malware_data = pd.DataFrame(index=apps_mal)\n",
    "for i in all_perm_uni:\n",
    "    col=[]\n",
    "    for j in all_perm_ben:\n",
    "        if i in j:\n",
    "            col.append(1)\n",
    "        else:\n",
    "            col.append(0)\n",
    "    benign_data[i] = col\n",
    "    \n",
    "    col=[]\n",
    "    for j in all_perm_mal:\n",
    "        if i in j:\n",
    "            col.append(1)\n",
    "        else:\n",
    "            col.append(0)\n",
    "    malware_data[i] = col"
   ]
  },
  {
   "cell_type": "code",
   "execution_count": 29,
   "metadata": {},
   "outputs": [],
   "source": [
    "benign_data.to_csv('benign_data.csv', index_label='Id')\n",
    "malware_data.to_csv('malware_data.csv', index_label='Id')"
   ]
  },
  {
   "cell_type": "code",
   "execution_count": 30,
   "metadata": {},
   "outputs": [],
   "source": [
    "# print(len(all_perm_uni))\n",
    "# sorted(all_perm_uni)"
   ]
  },
  {
   "cell_type": "code",
   "execution_count": null,
   "metadata": {},
   "outputs": [],
   "source": []
  },
  {
   "cell_type": "code",
   "execution_count": null,
   "metadata": {},
   "outputs": [],
   "source": []
  },
  {
   "cell_type": "code",
   "execution_count": null,
   "metadata": {},
   "outputs": [],
   "source": []
  }
 ],
 "metadata": {
  "kernelspec": {
   "display_name": "Python 3",
   "language": "python",
   "name": "python3"
  },
  "language_info": {
   "codemirror_mode": {
    "name": "ipython",
    "version": 3
   },
   "file_extension": ".py",
   "mimetype": "text/x-python",
   "name": "python",
   "nbconvert_exporter": "python",
   "pygments_lexer": "ipython3",
   "version": "3.7.6"
  }
 },
 "nbformat": 4,
 "nbformat_minor": 4
}
